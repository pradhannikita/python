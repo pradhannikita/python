{
 "cells": [
  {
   "cell_type": "raw",
   "id": "7547a306",
   "metadata": {},
   "source": [
    "1--write a python/matlab code based on the idea of the homotopy pertubation method to plot/visualize the two PDEs, that is the theta form and head for of richards equation\n",
    "2. plot the comparison between the solution obtained from theta form and head for of richards equation\n",
    "3. Use any numerical scheme to solve and plot the richards equation\n",
    "4. Plot a graph to compare the solution from theta form, head form and the richards' equation.\n",
    "5. Plot a graph to compare the solution of equation (1.2) and equation (1.3).\n",
    "6. Plot a graph to compare the solution of equation (1.19) and equation (1.20)"
   ]
  },
  {
   "cell_type": "code",
   "execution_count": null,
   "id": "545f4ca1",
   "metadata": {},
   "outputs": [],
   "source": [
    "import numpy as np\n",
    "import matplotlib.pyplot as plt\n",
    "\n",
    "\n",
    "L = 1.0       # Domain length\n",
    "Nx = 101      # Number of grid points\n",
    "T = 1.0       # Simulation time\n",
    "Nt = 100      # Number of time steps\n",
    "hL = 0.0      # Left boundary condition\n",
    "hR = 1.0      # Right boundary condition\n"
   ]
  },
  {
   "cell_type": "code",
   "execution_count": 2,
   "id": "2e716c3f",
   "metadata": {},
   "outputs": [],
   "source": [
    "K = 1.0       # Hydraulic conductivity\n",
    "S = 0.0       # Source term\n",
    "\n",
    "# Define the homotopy parameter\n",
    "p = 1.0"
   ]
  },
  {
   "cell_type": "code",
   "execution_count": 3,
   "id": "fcad9b92",
   "metadata": {},
   "outputs": [],
   "source": [
    "h0 = np.linspace(hL, hR, Nx)\n",
    "theta0 = np.linspace(0, 1, Nx)\n",
    "t = np.linspace(0, T, Nt)\n",
    "dt = T/Nt"
   ]
  },
  {
   "cell_type": "code",
   "execution_count": 4,
   "id": "d50c2a04",
   "metadata": {},
   "outputs": [
    {
     "data": {
      "text/plain": [
       "0.01"
      ]
     },
     "execution_count": 4,
     "metadata": {},
     "output_type": "execute_result"
    }
   ],
   "source": [
    "dt"
   ]
  },
  {
   "cell_type": "code",
   "execution_count": null,
   "id": "2c2760cd",
   "metadata": {},
   "outputs": [],
   "source": [
    "k = 0\n",
    "\n",
    "# Define the tolerance for convergence\n",
    "tol = 1e-6\n",
    "\n",
    "# Iterate until convergence\n",
    "while p > tol and k < 10000:\n",
    "    # Define the linear operator for the theta form\n",
    "    A_theta = np.zeros((Nx, Nx))\n",
    "    A_theta[0, 0] = 1\n",
    "    A_theta[Nx-1, Nx-1] = 1\n",
    "    for i in range(1, Nx-1):\n",
    "        A_theta[i, i-1] = 1\n",
    "        A_theta[i, i] = -2 - p*dt*K/(h0[i+1] - h0[i-1])\n",
    "        A_theta[i, i+1] = 1\n",
    "    b_theta = np.zeros(Nx)\n",
    "    b_theta[0] = hL\n",
    "    b_theta[Nx-1] = hR\n",
    "    "
   ]
  },
  {
   "cell_type": "code",
   "execution_count": null,
   "id": "3b099771",
   "metadata": {},
   "outputs": [],
   "source": [
    "A_head = np.zeros((Nx, Nx))\n",
    "    A_head[0, 0] = 1\n",
    "    A_head[Nx-1, Nx-1] = 1\n",
    "    \n",
    "    for i in range(1, Nx-1):\n",
    "        A_head[i, i-1] = -K*dt/(h0[i] - h0[i-1])\n",
    "        A_head[i, i] = K*dt/(h0[i] - h0[i-1]) + K*dt/(h0[i+1] - h0[i-1])\n",
    "        A_head[i, i+1] = -K*dt/(h0[i+1] - h0[i])\n",
    "    b_head = np.zeros(Nx)\n",
    "    b_head[0] = hL\n",
    "    b_head[Nx-1] = hR\n",
    "\n",
    "    "
   ]
  },
  {
   "cell_type": "code",
   "execution_count": null,
   "id": "aae0f2cd",
   "metadata": {},
   "outputs": [],
   "source": [
    " def F_theta(h):\n",
    "        q = -K/(h[1:] - h[:-1])*(h[1:] - h[:-1])/2\n",
    "        divq = np.zeros(Nx)\n",
    "        divq[1:-1] = (q[1:] - q[:-1])/(h[1:] - h[:-1])\n",
    "        return (h - h0)/dt + divq\n"
   ]
  },
  {
   "cell_type": "code",
   "execution_count": null,
   "id": "c6d86dc9",
   "metadata": {},
   "outputs": [],
   "source": [
    " # Define the Jacobian for the theta form\n",
    "def J_theta(h):\n",
    "    q = -K/(h[1:] - h[:-1])*(h[1:] - h[:-1])/2\n",
    "    ddivq = np.zeros((Nx, Nx))\n",
    "    for i in range(1, Nx-1):\n",
    "        ddivq[i, i-1] = (K/(h[i] - h[i-1]))**2 - K/(h[i] - h[i-1])*(1 - K*(h[i+1] - h[i])/(h[i] - h[i-1])**2/(h[i+1] - h[i]))\n",
    "        ddivq[i, i] = -(K/(h[i] - h[i-1]))**2 - (K/(h[i+1] - h[i]))**2 - K/(h[i] - h[i-1])*(1 + K*(h[i+1] - h[i])/(h[i] - h[i-1])**2/(h[i+1] - h[i])) + K*(h[i+1] - h[i])/(h[i] - h[i-1])**2/(h[i+1] - h[i])**2\n",
    "        ddivq[i, i+1] = (K/(h[i+1] - h[i]))**2 + K/(h[i+1] - h[i])*(1 + K*(h[i+1] - h[i])/(h[i] - h[i-1])**2/(h[i+1] - h[i]))\n",
    "    dFdh = np.eye(Nx) - p*dt*ddivq\n",
    "    return dFdh\n"
   ]
  },
  {
   "cell_type": "code",
   "execution_count": null,
   "id": "c1122acf",
   "metadata": {},
   "outputs": [],
   "source": []
  }
 ],
 "metadata": {
  "kernelspec": {
   "display_name": "Python 3 (ipykernel)",
   "language": "python",
   "name": "python3"
  },
  "language_info": {
   "codemirror_mode": {
    "name": "ipython",
    "version": 3
   },
   "file_extension": ".py",
   "mimetype": "text/x-python",
   "name": "python",
   "nbconvert_exporter": "python",
   "pygments_lexer": "ipython3",
   "version": "3.9.12"
  }
 },
 "nbformat": 4,
 "nbformat_minor": 5
}
